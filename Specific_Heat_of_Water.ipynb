{
  "nbformat": 4,
  "nbformat_minor": 0,
  "metadata": {
    "colab": {
      "name": "Specific Heat of Water.ipynb",
      "provenance": [],
      "authorship_tag": "ABX9TyOXylX4gWLXoHIMxFE2cJCw"
    },
    "kernelspec": {
      "name": "python3",
      "display_name": "Python 3"
    }
  },
  "cells": [
    {
      "cell_type": "markdown",
      "metadata": {
        "id": "CKrv5x3GeNQz"
      },
      "source": [
        "# Install and import libraries"
      ]
    },
    {
      "cell_type": "code",
      "metadata": {
        "id": "X65_LB9qeIuW"
      },
      "source": [
        "!pip install whit-phys-util 1>/dev/null"
      ],
      "execution_count": null,
      "outputs": []
    },
    {
      "cell_type": "code",
      "metadata": {
        "id": "Wz3VAUeAeS_s"
      },
      "source": [
        "import numpy as np\r\n",
        "import pandas as pd\r\n",
        "import matplotlib.pyplot as plt\r\n",
        "import whit_phys_util as buc"
      ],
      "execution_count": null,
      "outputs": []
    },
    {
      "cell_type": "markdown",
      "metadata": {
        "id": "lYuv3kW_eWWK"
      },
      "source": [
        "# Connect to GitHub"
      ]
    },
    {
      "cell_type": "code",
      "metadata": {
        "id": "lf-SIiQveYD8"
      },
      "source": [
        "repo = buc.local_repository(\"replace me\")"
      ],
      "execution_count": null,
      "outputs": []
    },
    {
      "cell_type": "markdown",
      "metadata": {
        "id": "HQpw0HLQeaTR"
      },
      "source": [
        "# Equipment and materials\r\n",
        "| Description | Manufacturer | Model | ID or SN |\r\n",
        "| ----------- | ------------ | ----- | -------- |\r\n",
        "| GFCI cable | fill in | fill in | N/A |\r\n",
        "| variac | fill in | fill in | fill in |\r\n",
        "| power meter | fill in | fill in | fill in | \r\n",
        "| electric immersion heater | fill in | fill in | fill in |\r\n",
        "| thermocouple meter | fill in | fill in | fill in |\r\n",
        "| thermocouple | N/A | N/A | N/A |\r\n",
        "| insulated container | N/A | N/A | N/A |\r\n",
        "| plastic bag | N/A | N/A | N/A |\r\n",
        "| support frame | Zemke Inc | 1 | N/A |\r\n",
        "\r\n",
        "_You should replace the **fill in** entries with appropriate info._"
      ]
    },
    {
      "cell_type": "markdown",
      "metadata": {
        "id": "_0twlyw8fS97"
      },
      "source": [
        "## DANGER\r\n",
        "\r\n",
        "You are putting an electric heater into a container of water. Therefore:\r\n",
        "\r\n",
        "* The heater must be plugged into the GFCI safety cable.\r\n",
        "* Keep the electric leads dry except for the portion that is designed to be immersed.\r\n",
        "* Keep the black splices in the leads out of the water and dry.\r\n",
        "* Keep your work area dry. Water goes in the insulated container, not on the desk.\r\n",
        "* The water _should_ be safe to touch if you follow these rules, but let's not test that. Do not place your hand in the water.\r\n",
        "\r\n",
        "If you think something _might_ be unsafe, stop and ask. Remember, the most important lab objective is **don't die**. That means you need to avoid becoming part of the circuit.\r\n",
        "\r\n",
        "\r\n"
      ]
    },
    {
      "cell_type": "markdown",
      "metadata": {
        "id": "-7D-wDRxj-Tr"
      },
      "source": [
        "# Initial measurements"
      ]
    },
    {
      "cell_type": "code",
      "metadata": {
        "id": "ct3PlAdPfPPx"
      },
      "source": [
        "mass_empty_pitcher = ??? # mass of empty pitcher in kg\r\n",
        "mass_first_pour = ??? # mass of filled pitcher, first pour (in kg)\r\n",
        "mass_second_pour = ??? # mass of filled pitcher, second pour (in kg)\r\n",
        "m = mass_first_pour + mass_second_pour - 2*mass_empty_pitcher"
      ],
      "execution_count": null,
      "outputs": []
    },
    {
      "cell_type": "markdown",
      "metadata": {
        "id": "vSpc_tGLQ7W-"
      },
      "source": [
        "# Import data"
      ]
    },
    {
      "cell_type": "code",
      "metadata": {
        "id": "03fPSwBjQ89E"
      },
      "source": [
        ""
      ],
      "execution_count": null,
      "outputs": []
    },
    {
      "cell_type": "markdown",
      "metadata": {
        "id": "CW5XdsVOQ9oT"
      },
      "source": [
        "# Analysis"
      ]
    },
    {
      "cell_type": "code",
      "metadata": {
        "id": "zAdPSj9ZQ_IL"
      },
      "source": [
        ""
      ],
      "execution_count": null,
      "outputs": []
    }
  ]
}
